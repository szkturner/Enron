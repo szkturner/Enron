{
 "cells": [
  {
   "cell_type": "code",
   "execution_count": 52,
   "metadata": {},
   "outputs": [],
   "source": [
    "# Init\n",
    "import numpy as np\n",
    "from getRandomEmailSample import get_file_sample, populate_files\n",
    "from email.parser import Parser\n",
    "from email.message import EmailMessage\n",
    "from email.policy import default\n"
   ]
  },
  {
   "cell_type": "code",
   "execution_count": 53,
   "metadata": {},
   "outputs": [],
   "source": [
    "# Vars \n",
    "data_path = \"C:\\\\Users\\\\sebtu\\\\Documents\\\\NLP Projects\\\\Enron\\\\data\"\n",
    "file_paths = get_file_sample(40, data_path)"
   ]
  },
  {
   "cell_type": "code",
   "execution_count": 54,
   "metadata": {},
   "outputs": [],
   "source": [
    "# Populate Emails\n",
    "emails = populate_files(file_paths)\n"
   ]
  },
  {
   "cell_type": "code",
   "execution_count": 55,
   "metadata": {},
   "outputs": [
    {
     "data": {
      "text/plain": [
       "'Dear Jason -\\n\\nI\\'m sure that Mr. Lay would love to do this, but his travel schedule is such \\nnow that it is very difficult.  Would you be interested in meeting with \\nsomeone from Enron Energy Services?\\n\\nRosalee\\n\\n\\n\\n\\n\"Jason Hoelscher\" <j_hoelscher@hotmail.com> on 04/03/2001 02:41:59 PM\\nTo: kenneth.lay@enron.com\\ncc:  \\nSubject: University of Houston\\n\\n\\nDear Mr. Lay,\\n\\nWe value our partnership with Enron. It is our objective to provide value\\nand solution to your business issues. Our purpose is to take 15-20 minutes\\nof your time to share with you more about the University of Houston\\x01,s\\nProgram for Excellence in Selling.  At our meeting, our objective is to do\\nthe following:\\n\\n? Thank you for your support.\\n? Get your opinion on how to improve the program.\\n? Inform you of the Program for Excellence in Selling, and how it can\\nbenefit your company.\\n? Present a brief description about our upcoming event.\\n\\nSince you are a successful University of Houston Alumni member we would love\\nthe opportunity to meet with you.  In the past, these appointments have\\nproven to be mutually beneficial.\\n\\nMr. Lay, our team and our professor are looking forward to meeting with you.\\n  Our team will call you on April 5 to arrange for a convenient time and\\ndate.\\n\\nThank you,\\nJason Hoelscher\\nMichelle Schaper\\nPatrick Bilnoski\\n\\n\\n_________________________________________________________________\\nGet your FREE download of MSN Explorer at http://explorer.msn.com\\n\\n\\n'"
      ]
     },
     "execution_count": 55,
     "metadata": {},
     "output_type": "execute_result"
    }
   ],
   "source": [
    "# Read Emails\n",
    "email[1].get_content()\n",
    "# print(msg)\n",
    "msg.get_content()"
   ]
  }
 ],
 "metadata": {
  "kernelspec": {
   "display_name": "Python 3",
   "language": "python",
   "name": "python3"
  },
  "language_info": {
   "codemirror_mode": {
    "name": "ipython",
    "version": 3
   },
   "file_extension": ".py",
   "mimetype": "text/x-python",
   "name": "python",
   "nbconvert_exporter": "python",
   "pygments_lexer": "ipython3",
   "version": "3.11.9"
  }
 },
 "nbformat": 4,
 "nbformat_minor": 2
}
