{
 "cells": [
  {
   "cell_type": "code",
   "execution_count": 73,
   "metadata": {},
   "outputs": [],
   "source": [
    "# Init\n",
    "import numpy as np\n",
    "from getRandomEmailSample import get_file_sample, populate_files\n",
    "from email.parser import Parser\n",
    "from email.message import EmailMessage\n",
    "from email.policy import default\n"
   ]
  },
  {
   "cell_type": "code",
   "execution_count": 74,
   "metadata": {},
   "outputs": [],
   "source": [
    "# Vars \n",
    "data_path = \"C:\\\\Users\\\\sebtu\\\\Documents\\\\NLP Projects\\\\Enron\\\\data\"\n",
    "file_paths = get_file_sample(10, data_path)"
   ]
  },
  {
   "cell_type": "code",
   "execution_count": 77,
   "metadata": {},
   "outputs": [],
   "source": [
    "# Populate Emails\n",
    "emails = populate_files(file_paths)\n"
   ]
  },
  {
   "cell_type": "code",
   "execution_count": 76,
   "metadata": {},
   "outputs": [
    {
     "data": {
      "text/plain": [
       "str"
      ]
     },
     "execution_count": 76,
     "metadata": {},
     "output_type": "execute_result"
    }
   ],
   "source": [
    "# Read Emails\n",
    "msg_path = file_paths[1]\n",
    "with open(msg_path, 'r') as fp:\n",
    "    msg = Parser(policy=default).parse(fp)\n",
    "\n",
    "\n",
    "type(emails[1])\n"
   ]
  }
 ],
 "metadata": {
  "kernelspec": {
   "display_name": "Python 3",
   "language": "python",
   "name": "python3"
  },
  "language_info": {
   "codemirror_mode": {
    "name": "ipython",
    "version": 3
   },
   "file_extension": ".py",
   "mimetype": "text/x-python",
   "name": "python",
   "nbconvert_exporter": "python",
   "pygments_lexer": "ipython3",
   "version": "3.11.9"
  }
 },
 "nbformat": 4,
 "nbformat_minor": 2
}
